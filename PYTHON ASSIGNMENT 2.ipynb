{
 "cells": [
  {
   "cell_type": "markdown",
   "id": "1504b640",
   "metadata": {},
   "source": [
    "## Q NO- 1 \n",
    "     Create the below pattern using nested for loop in Python.\n",
    "       *\n",
    "       * *\n",
    "       * * *\n",
    "       * * * *\n",
    "       * * * * *\n",
    "       * * * *\n",
    "       * * *\n",
    "       * *\n",
    "       *"
   ]
  },
  {
   "cell_type": "code",
   "execution_count": 2,
   "id": "3fcc0728",
   "metadata": {},
   "outputs": [
    {
     "name": "stdout",
     "output_type": "stream",
     "text": [
      "\n",
      "*\n",
      "**\n",
      "***\n",
      "****\n",
      "*****\n",
      "****\n",
      "***\n",
      "**\n",
      "*\n"
     ]
    }
   ],
   "source": [
    "rows = 5\n",
    "for i in range(0,rows):\n",
    "    print(\"*\"*i)\n",
    "for i in range(rows,0,-1):\n",
    "    print(\"*\"*i)"
   ]
  },
  {
   "cell_type": "code",
   "execution_count": 3,
   "id": "81402001",
   "metadata": {},
   "outputs": [
    {
     "name": "stdout",
     "output_type": "stream",
     "text": [
      "enter a word:ineuron\n",
      "norueni\n"
     ]
    }
   ],
   "source": [
    "##QUESTION 2 - WRITE A PROGRAM TO REVERSE A WORD AFTER ACCEPTING THE INPUT FROM USER\n",
    "\n",
    "word = input(\"enter a word:\")\n",
    "print(word[::-1])"
   ]
  }
 ],
 "metadata": {
  "kernelspec": {
   "display_name": "Python 3 (ipykernel)",
   "language": "python",
   "name": "python3"
  },
  "language_info": {
   "codemirror_mode": {
    "name": "ipython",
    "version": 3
   },
   "file_extension": ".py",
   "mimetype": "text/x-python",
   "name": "python",
   "nbconvert_exporter": "python",
   "pygments_lexer": "ipython3",
   "version": "3.9.7"
  }
 },
 "nbformat": 4,
 "nbformat_minor": 5
}
